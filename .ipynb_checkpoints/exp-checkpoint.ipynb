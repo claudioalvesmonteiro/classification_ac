{
 "cells": [
  {
   "cell_type": "code",
   "execution_count": 1,
   "id": "palestinian-richmond",
   "metadata": {},
   "outputs": [],
   "source": [
    "import pandas as pd\n",
    "from imblearn.over_sampling import RandomOverSampler\n",
    "import matplotlib.pyplot as plt"
   ]
  },
  {
   "cell_type": "code",
   "execution_count": 2,
   "id": "moderate-revision",
   "metadata": {},
   "outputs": [],
   "source": [
    "# import data\n",
    "data = pd.read_csv('data/winequality-red.csv', sep=';')"
   ]
  },
  {
   "cell_type": "code",
   "execution_count": 3,
   "id": "opposite-china",
   "metadata": {},
   "outputs": [],
   "source": [
    "# create target column\n",
    "data['good_quality'] = [1 if x >= 7 else 0 for x in data['quality'] ]"
   ]
  },
  {
   "cell_type": "code",
   "execution_count": 4,
   "id": "different-district",
   "metadata": {},
   "outputs": [],
   "source": [
    "X = data.drop(columns=['quality','good_quality'])\n",
    "y = data['good_quality']"
   ]
  },
  {
   "cell_type": "code",
   "execution_count": 5,
   "id": "general-royal",
   "metadata": {},
   "outputs": [],
   "source": [
    "oversample = RandomOverSampler(sampling_strategy='minority')\n",
    "\n",
    "X, y = oversample.fit_resample(X, y)"
   ]
  },
  {
   "cell_type": "code",
   "execution_count": 6,
   "id": "robust-construction",
   "metadata": {},
   "outputs": [],
   "source": [
    "#=========================\n",
    "# modelling\n",
    "#=========================\n",
    "\n",
    "\n",
    "def crossExperiment(model, modelname):\n",
    "    \n",
    "    from sklearn.model_selection import cross_validate\n",
    "    from sklearn.metrics import roc_auc_score, accuracy_score\n",
    "\n",
    "    scoring = {'roc_auc_score': 'roc_auc', \n",
    "               'accuracy_score': 'accuracy'}\n",
    "\n",
    "    scores = cross_validate(model, X, y, scoring=scoring, cv=10)\n",
    "    \n",
    "    scores = pd.DataFrame(scores)\n",
    "    \n",
    "    scores['model'] = modelname\n",
    "    \n",
    "    return scores"
   ]
  },
  {
   "cell_type": "code",
   "execution_count": 7,
   "id": "comic-appearance",
   "metadata": {},
   "outputs": [],
   "source": [
    "from sklearn.tree import DecisionTreeClassifier\n",
    "\n",
    "treee = crossExperiment(DecisionTreeClassifier(), 'Decision Tree')"
   ]
  },
  {
   "cell_type": "code",
   "execution_count": 8,
   "id": "hybrid-thompson",
   "metadata": {},
   "outputs": [],
   "source": [
    "from sklearn.ensemble import RandomForestClassifier\n",
    "\n",
    "rf = crossExperiment(RandomForestClassifier(), 'Random Forest')"
   ]
  },
  {
   "cell_type": "code",
   "execution_count": 9,
   "id": "increasing-claim",
   "metadata": {},
   "outputs": [],
   "source": [
    "from sklearn.neighbors import KNeighborsClassifier\n",
    "\n",
    "knn = crossExperiment(KNeighborsClassifier(n_neighbors=3), 'KNN')"
   ]
  },
  {
   "cell_type": "code",
   "execution_count": 10,
   "id": "encouraging-meeting",
   "metadata": {},
   "outputs": [],
   "source": [
    "# combinar resultados\n",
    "results = pd.concat([treee, rf, knn])\n",
    "\n",
    "results.to_csv('results/results_cv.csv', index=False)"
   ]
  },
  {
   "cell_type": "markdown",
   "id": "innocent-moment",
   "metadata": {},
   "source": [
    "### Explicabilidade via Árvore de Decisão"
   ]
  },
  {
   "cell_type": "code",
   "execution_count": 11,
   "id": "prepared-quebec",
   "metadata": {},
   "outputs": [
    {
     "data": {
      "text/plain": [
       "DecisionTreeClassifier()"
      ]
     },
     "execution_count": 11,
     "metadata": {},
     "output_type": "execute_result"
    }
   ],
   "source": [
    "# arvore de decisao\n",
    "treee =  DecisionTreeClassifier()\n",
    "\n",
    "treee.fit(X, y)"
   ]
  },
  {
   "cell_type": "code",
   "execution_count": 12,
   "id": "designed-discussion",
   "metadata": {},
   "outputs": [],
   "source": [
    "importance = pd.DataFrame({'feature':list(X.columns),'importance':list(treee.feature_importances_)})"
   ]
  },
  {
   "cell_type": "code",
   "execution_count": 13,
   "id": "secure-tender",
   "metadata": {},
   "outputs": [],
   "source": [
    "importance.to_csv('results/feature_importance.csv')"
   ]
  },
  {
   "cell_type": "code",
   "execution_count": 14,
   "id": "exotic-madison",
   "metadata": {},
   "outputs": [
    {
     "data": {
      "image/png": "[encoded data removed]",
      "text/plain": [
       "<Figure size 432x288 with 1 Axes>"
      ]
     },
     "metadata": {
      "needs_background": "light"
     },
     "output_type": "display_data"
    }
   ],
   "source": [
    "from sklearn import tree\n",
    "\n",
    "tree.plot_tree(treee)\n",
    "plt.show()"
   ]
  },
  {
   "cell_type": "code",
   "execution_count": null,
   "id": "sapphire-blackberry",
   "metadata": {},
   "outputs": [
    {
     "name": "stderr",
     "output_type": "stream",
     "text": [
      "findfont: Font family ['Arial'] not found. Falling back to DejaVu Sans.\n",
      "findfont: Font family ['Arial'] not found. Falling back to DejaVu Sans.\n"
     ]
    }
   ],
   "source": [
    "from dtreeviz.trees import dtreeviz # remember to load the package\n",
    "\n",
    "viz = dtreeviz(treee, X, y,\n",
    "                target_name=\"target\",\n",
    "                feature_names=list(X.columns),\n",
    "                class_names=['ruim', 'bom'])\n",
    "\n",
    "viz.save(\"results/decistion_tree_viz.svg\")"
   ]
  },
  {
   "cell_type": "code",
   "execution_count": null,
   "id": "catholic-queen",
   "metadata": {},
   "outputs": [],
   "source": [
    "fig = plt.figure(figsize=(25,20))\n",
    "_ = tree.plot_tree(treee, \n",
    "                   feature_names=list(X.columns),  \n",
    "                   class_names= ['ruim', 'bom'],\n",
    "                   filled=True)\n",
    "\n",
    "fig.savefig(\"results/decistion_tree.png\")"
   ]
  },
  {
   "cell_type": "code",
   "execution_count": null,
   "id": "likely-nudist",
   "metadata": {},
   "outputs": [],
   "source": [
    "text_representation = tree.export_text(treee)\n",
    "print(text_representation)"
   ]
  },
  {
   "cell_type": "code",
   "execution_count": null,
   "id": "mexican-colors",
   "metadata": {},
   "outputs": [],
   "source": []
  }
 ],
 "metadata": {
  "environment": {
   "name": "common-cpu.mnightly-2021-02-12-debian-10-test",
   "type": "gcloud",
   "uri": "gcr.io/deeplearning-platform-release/base-cpu:mnightly-2021-02-12-debian-10-test"
  },
  "kernelspec": {
   "display_name": "Python 3",
   "language": "python",
   "name": "python3"
  },
  "language_info": {
   "codemirror_mode": {
    "name": "ipython",
    "version": 3
   },
   "file_extension": ".py",
   "mimetype": "text/x-python",
   "name": "python",
   "nbconvert_exporter": "python",
   "pygments_lexer": "ipython3",
   "version": "3.7.9"
  }
 },
 "nbformat": 4,
 "nbformat_minor": 5
}
