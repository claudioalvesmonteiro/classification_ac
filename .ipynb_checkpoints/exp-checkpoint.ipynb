{
 "cells": [
  {
   "cell_type": "code",
   "execution_count": 5,
   "id": "needed-valuable",
   "metadata": {},
   "outputs": [
    {
     "data": {
      "text/plain": [
       "target\n",
       "0    844\n",
       "1    629\n",
       "dtype: int64"
      ]
     },
     "execution_count": 5,
     "metadata": {},
     "output_type": "execute_result"
    }
   ],
   "source": [
    "import pandas as pd\n",
    "\n",
    "\n",
    "# import data\n",
    "data = pd.read_csv('cmc.data', header=None)\n",
    "\n",
    "data.columns = ['wife_age', \n",
    "                'wife_education',\n",
    "                'husband_education',\n",
    "                'number_of_children',\n",
    "                'wife_religion',\n",
    "                'wife_not_working',\n",
    "                'husband_occupation',\n",
    "                'standard_of_living',\n",
    "                'media_exposure',\n",
    "                'contraceptive_method']\n",
    "\n",
    "# create target column\n",
    "data['target'] = [1 if x == 1 else 0 for x in data['contraceptive_method'] ]\n",
    "\n",
    "data[['target']].groupby('target').size()\n",
    "\n",
    "# split in train test\n",
    "#from sklearn.model_selection import train_test_split\n",
    "#X_train, X_test, y_train, y_test = train_test_split(X.drop('target', index=1), data['target'], test_size=0.33, random_state=42)"
   ]
  },
  {
   "cell_type": "code",
   "execution_count": 33,
   "id": "collaborative-cooperation",
   "metadata": {},
   "outputs": [],
   "source": [
    "X = data.drop(columns=['target'])\n",
    "y = data['target']"
   ]
  },
  {
   "cell_type": "code",
   "execution_count": 34,
   "id": "desperate-trauma",
   "metadata": {},
   "outputs": [
    {
     "data": {
      "text/plain": [
       "1473"
      ]
     },
     "execution_count": 34,
     "metadata": {},
     "output_type": "execute_result"
    }
   ],
   "source": [
    "len(y)"
   ]
  },
  {
   "cell_type": "code",
   "execution_count": 35,
   "id": "found-alexandria",
   "metadata": {},
   "outputs": [],
   "source": [
    "#=========================\n",
    "# modelling\n",
    "#=========================\n",
    "\n",
    "from sklearn.tree import DecisionTreeClassifier\n",
    "\n",
    "from sklearn.model_selection import cross_validate\n",
    "from sklearn.metrics import roc_auc_score, accuracy_score\n",
    "\n",
    "scoring = {'roc_auc_score': 'roc_auc', \n",
    "           'accuracy_score': 'accuracy',\n",
    "           'precision': 'precision',\n",
    "           'recall': 'recall',\n",
    "           'f1':'f1'}\n",
    "\n",
    "tree =  DecisionTreeClassifier()\n",
    "scores = cross_validate(tree, X, y, scoring=scoring, cv=10)"
   ]
  },
  {
   "cell_type": "code",
   "execution_count": 36,
   "id": "intended-repeat",
   "metadata": {},
   "outputs": [
    {
     "data": {
      "text/plain": [
       "{'fit_time': array([0.00387883, 0.00268841, 0.00281262, 0.00281215, 0.00292134,\n",
       "        0.00324845, 0.00261188, 0.0025785 , 0.00263858, 0.00256157]),\n",
       " 'score_time': array([0.00808406, 0.0070498 , 0.0071454 , 0.00685978, 0.00672221,\n",
       "        0.00692725, 0.00669718, 0.00671005, 0.00660372, 0.00698805]),\n",
       " 'test_roc_auc_score': array([1., 1., 1., 1., 1., 1., 1., 1., 1., 1.]),\n",
       " 'test_accuracy_score': array([1., 1., 1., 1., 1., 1., 1., 1., 1., 1.]),\n",
       " 'test_precision': array([1., 1., 1., 1., 1., 1., 1., 1., 1., 1.]),\n",
       " 'test_recall': array([1., 1., 1., 1., 1., 1., 1., 1., 1., 1.]),\n",
       " 'test_f1': array([1., 1., 1., 1., 1., 1., 1., 1., 1., 1.])}"
      ]
     },
     "execution_count": 36,
     "metadata": {},
     "output_type": "execute_result"
    }
   ],
   "source": [
    "scores"
   ]
  },
  {
   "cell_type": "code",
   "execution_count": null,
   "id": "damaged-lawrence",
   "metadata": {},
   "outputs": [],
   "source": [
    "# arvore de decisao\n",
    "\n",
    "from sklearn import tree\n",
    "tree =  DecisionTreeClassifier()\n"
   ]
  },
  {
   "cell_type": "code",
   "execution_count": 22,
   "id": "undefined-kelly",
   "metadata": {},
   "outputs": [
    {
     "data": {
      "text/plain": [
       "0"
      ]
     },
     "execution_count": 22,
     "metadata": {},
     "output_type": "execute_result"
    }
   ],
   "source": [
    "import random\n",
    "random.randint(0,2)"
   ]
  },
  {
   "cell_type": "code",
   "execution_count": 24,
   "id": "actual-champagne",
   "metadata": {},
   "outputs": [],
   "source": [
    "data['number_of_children']  = [random.randint(0,10) if i%2 == 0 else data['number_of_children'][i]  for i in range(len(data)) ]"
   ]
  },
  {
   "cell_type": "code",
   "execution_count": 32,
   "id": "liked-berry",
   "metadata": {},
   "outputs": [],
   "source": [
    "data['wife_education']  = [random.randint(0,5) if i%2 == 0 else data['wife_education'][i]  for i in range(len(data)) ]"
   ]
  },
  {
   "cell_type": "code",
   "execution_count": null,
   "id": "recorded-eagle",
   "metadata": {},
   "outputs": [],
   "source": []
  }
 ],
 "metadata": {
  "environment": {
   "name": "common-cpu.mnightly-2021-02-12-debian-10-test",
   "type": "gcloud",
   "uri": "gcr.io/deeplearning-platform-release/base-cpu:mnightly-2021-02-12-debian-10-test"
  },
  "kernelspec": {
   "display_name": "Python 3",
   "language": "python",
   "name": "python3"
  },
  "language_info": {
   "codemirror_mode": {
    "name": "ipython",
    "version": 3
   },
   "file_extension": ".py",
   "mimetype": "text/x-python",
   "name": "python",
   "nbconvert_exporter": "python",
   "pygments_lexer": "ipython3",
   "version": "3.7.9"
  }
 },
 "nbformat": 4,
 "nbformat_minor": 5
}
